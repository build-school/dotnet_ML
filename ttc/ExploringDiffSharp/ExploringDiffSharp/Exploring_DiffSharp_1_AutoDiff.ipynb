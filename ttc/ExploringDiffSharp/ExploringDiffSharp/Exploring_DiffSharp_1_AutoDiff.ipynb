{
 "cells": [
  {
   "cell_type": "markdown",
   "metadata": {},
   "source": [
    "# Exploring DiffSharp: Automatic Differentiation"
   ]
  },
  {
   "cell_type": "code",
   "execution_count": null,
   "metadata": {
    "dotnet_interactive": {
     "language": "fsharp"
    }
   },
   "outputs": [
    {
     "data": {
      "text/html": [
       "<div><div></div><div></div><div><strong>Installed Packages</strong><ul><li><span>DiffSharp-lite, 1.0.1</span></li></ul></div></div>"
      ]
     },
     "metadata": {},
     "output_type": "display_data"
    }
   ],
   "source": [
    "#r \"nuget: DiffSharp-lite, 1.0.1\"\n",
    "\n",
    "Formatter.SetPreferredMimeTypesFor(typeof<obj>, \"text/plain\")\n",
    "Formatter.Register(fun x writer -> fprintfn writer \"%120A\" x )\n",
    "\n",
    "open DiffSharp\n",
    "open DiffSharp.Data\n",
    "open DiffSharp.Util // required for print\n",
    "open System.Diagnostics\n",
    "open System\n",
    "\n",
    "dsharp.config(dtype=Dtype.Float32, device=Device.CPU)"
   ]
  },
  {
   "cell_type": "markdown",
   "metadata": {},
   "source": [
    "## Differentiation"
   ]
  },
  {
   "cell_type": "markdown",
   "metadata": {},
   "source": [
    "### Defining scalar functions and taking the gradient"
   ]
  },
  {
   "cell_type": "code",
   "execution_count": null,
   "metadata": {
    "dotnet_interactive": {
     "language": "fsharp"
    }
   },
   "outputs": [
    {
     "name": "stdout",
     "output_type": "stream",
     "text": [
      "(\"f_alt(): \", tensor(30.))\n",
      "(\"f(): \", tensor(55.))\n",
      "(\"df(): \", tensor([ 2.,  4.,  6.,  8., 10.]))\n",
      "(\"df_alt(): \", tensor([2., 4., 6., 8., 0.]))\n",
      "(\"f(): \", tensor(14.))\n",
      "(\"df(): \", tensor([2., 4., 6.]))\n"
     ]
    }
   ],
   "source": [
    "let ten1 = dsharp.tensor([1, 2, 3, 4, 5], dtype=Float32)\n",
    "let ten2 = dsharp.tensor([1, 2, 3], dtype=Float32)\n",
    "\n",
    "let f(x: Tensor) = dsharp.sum(x ** 2) \n",
    "// this is: x² + y² + z² + w² \n",
    "// where each element of x corresponds to a parameter (x[0] = x, x[1] = y, x[2] = z, x[3] = w)\n",
    "// and more elements in the tensor would be equal to more parameters \n",
    "// alternatively:\n",
    "let f_alt(x: Tensor) = x[0] ** 2 + x[1] ** 2 + x[2] ** 2 + x[3] ** 2 \n",
    "// where you have 4 parameters in the function and if for this example x was larger \n",
    "// than 4 elements f_alt still works, but since x[4] isn't part of the function\n",
    "// the result differs from f()\n",
    "print(\"f_alt(): \", f_alt(ten1)) // 1 + 2² + 3² + 4² = 1 + 4 + 9 + 16 = 30\n",
    "// vs the first implementation:\n",
    "print(\"f(): \", f(ten1)) // --> 55\n",
    "\n",
    "// computing the gradient\n",
    "let df = dsharp.grad(f)\n",
    "let df_alt = dsharp.grad(f_alt)\n",
    "\n",
    "print(\"df(): \", df(ten1))     // --> [2, 4, 6, 8, 10]\n",
    "print(\"df_alt(): \", df_alt(ten1)) // --> [2, 4, 6, 8, 0]\n",
    "// print(f_alt(ten2)) \n",
    "// --> Index outside the bounds of Tensor shape [|3|], because f_alt expect the input to \n",
    "// have at least 4 elements\n",
    "print(\"f(): \", f(ten2)) // --> 14 , f can handle any amount of elements\n",
    "print(\"df(): \", df(ten2)) // --> [2, 4, 6], and so can the gradient of f\n",
    "//print(df_alt(ten2)) \n",
    "// --> Index outside the bounds of Tensor shape [|3|]\n",
    "// df_alt() just like f_alt expect x to have at least 4 elements"
   ]
  },
  {
   "cell_type": "markdown",
   "metadata": {},
   "source": [
    "### Taking the hessian"
   ]
  },
  {
   "cell_type": "code",
   "execution_count": null,
   "metadata": {
    "dotnet_interactive": {
     "language": "fsharp"
    }
   },
   "outputs": [
    {
     "name": "stdout",
     "output_type": "stream",
     "text": [
      "\"Hessian of f for ten1 & ten2: \"\n",
      "tensor([[2., 0., 0., 0., 0.],\n",
      "        [0., 2., 0., 0., 0.],\n",
      "        [0., 0., 2., 0., 0.],\n",
      "        [0., 0., 0., 2., 0.],\n",
      "        [0., 0., 0., 0., 2.]])\n",
      "tensor([[2., 0., 0.],\n",
      "        [0., 2., 0.],\n",
      "        [0., 0., 2.]])\n",
      "\"-------------------------------------\"\n",
      "\"Hessian of f_alt for ten1 & ten3: \"\n",
      "tensor([[2., 0., 0., 0., 0.],\n",
      "        [0., 2., 0., 0., 0.],\n",
      "        [0., 0., 2., 0., 0.],\n",
      "        [0., 0., 0., 2., 0.],\n",
      "        [0., 0., 0., 0., 0.]])\n",
      "tensor([[2., 0., 0., 0.],\n",
      "        [0., 2., 0., 0.],\n",
      "        [0., 0., 2., 0.],\n",
      "        [0., 0., 0., 2.]])\n"
     ]
    }
   ],
   "source": [
    "let hf = dsharp.hessian(f)\n",
    "let hf_alt = dsharp.hessian(f_alt)\n",
    "\n",
    "print(\"Hessian of f for ten1 & ten2: \")\n",
    "print(hf(ten1))\n",
    "print(hf(ten2))\n",
    "print(\"-------------------------------------\")\n",
    "let ten3 = dsharp.tensor([1, 2, 3, 4], dtype=Float32)\n",
    "print(\"Hessian of f_alt for ten1 & ten3: \")\n",
    "print(hf_alt(ten1))\n",
    "print(hf_alt(ten3))\n",
    "// hf_alt(ten2) would not work because of the same reason reasons as previously"
   ]
  },
  {
   "cell_type": "code",
   "execution_count": null,
   "metadata": {
    "dotnet_interactive": {
     "language": "fsharp"
    }
   },
   "outputs": [
    {
     "name": "stdout",
     "output_type": "stream",
     "text": [
      "tensor([[ 2.0000,  0.0000,  1.0000],\n",
      "        [ 0.0000, 11.0907,  0.0000],\n",
      "        [ 1.0000,  0.0000,  0.0000]])\n"
     ]
    }
   ],
   "source": [
    "// a more interesting example:\n",
    "let g(x: Tensor) = x[0]**2 + x[1]**3 + x[2]*x[0] + sin(x[1]) // 3 parameters: x[0], x[1], x[2]\n",
    "\n",
    "let hg = dsharp.hessian(g) \n",
    "// | 2         0         1  |\n",
    "// | 0   6*x1 - sin(x1)  0  |\n",
    "// | 1         0         0  |\n",
    "\n",
    "// ten2 = [1, 2, 3]\n",
    "// expected result:\n",
    "// | 2         0         1  |\n",
    "// | 0   6*2 - sin(2)    0  |    sin(2) = 0.90929... --> 12 - sin(2) = 11.0907...\n",
    "// | 1         0         0  |\n",
    "print(hg(ten2))"
   ]
  },
  {
   "cell_type": "markdown",
   "metadata": {},
   "source": [
    "### Piecewise functions: gradient and hessian"
   ]
  },
  {
   "cell_type": "code",
   "execution_count": null,
   "metadata": {
    "dotnet_interactive": {
     "language": "fsharp"
    }
   },
   "outputs": [
    {
     "name": "stdout",
     "output_type": "stream",
     "text": [
      "tensor(6.)\n",
      "tensor(3.)\n",
      "tensor(0.)\n",
      "tensor([16.,  3.])\n",
      "tensor([16.,  3.])\n",
      "tensor([-23., 17.])\n",
      "tensor([[-6., 8.],\n",
      "        [8., 0.]])\n"
     ]
    }
   ],
   "source": [
    "let p(x: Tensor) = \n",
    "    if x > dsharp.tensor(0.) then\n",
    "        x**2\n",
    "    elif x > dsharp.tensor(-2.0) && x <= dsharp.tensor(0.) then\n",
    "        x*3\n",
    "    else\n",
    "        dsharp.tensor(3) + 0 * x \n",
    "        // 0 * x is necessary because DiffSharp cant take the derivative of a constant tensor\n",
    "\n",
    "let dp = dsharp.grad(p)\n",
    "\n",
    "// derivatives also only work for floating point inputs\n",
    "print(dp(dsharp.tensor(3.))) // --> 6\n",
    "print(dp(dsharp.tensor(-1.5))) // --> 3\n",
    "print(dp(dsharp.tensor(-3.))) // --> 0\n",
    "\n",
    "let ten4 = dsharp.tensor([1.])\n",
    "let ten5 = dsharp.tensor([4., -3.])\n",
    "\n",
    "//print(p(ten4))                 // --> Cannot compare non-scalar tensors\n",
    "//print(dp(dsharp.tensor([3.]))) // --> Cannot compare non-scalar Tensors\n",
    "// instead if you want to apply this kind of function to a tensor with several elements do:\n",
    "print(dsharp.map (fun x -> p(x))  ten5)\n",
    "\n",
    "// or define a function for it\n",
    "let p_el(x) = dsharp.map (fun x -> p(x)) x\n",
    "print(p_el(ten5))\n",
    "\n",
    "// the above definition of p only works on a single value / scalar tensor\n",
    "// naturally if we want more parameters in a piecewise function:\n",
    "let p2(x: Tensor) = \n",
    "    if x[0] > dsharp.tensor(1.) && x[1] > dsharp.tensor(1.) then\n",
    "        x[0]**2 + x[0] * x[1]\n",
    "    else\n",
    "        x[0] + x[1] + x[1] * x[0] ** 2\n",
    "        // x[0] * (x[0] * x[1] + 1) + x[1]\n",
    "\n",
    "// we can get the gradient and the hessian\n",
    "let dp2 = dsharp.grad(p2)\n",
    "let hp2 = dsharp.hessian(p2)\n",
    "\n",
    "// ten5 = [4., -3.] --> fails first condition --> p2(ten5) = x0 + x1 + x1 * x0**2\n",
    "// --> dp2/dx = \n",
    "//  | 1 + x1*x0*2 |   --> dp2/dx0\n",
    "//  | 1 + x0**2   |   --> dp2/dx1\n",
    "// expected output:\n",
    "//  | -23 |\n",
    "//  |  17 |\n",
    "print(dp2(ten5))\n",
    "\n",
    "//  | 2*x1   2*x0 |\n",
    "//  | 2*x0   0    |\n",
    "// expected output:\n",
    "//  | -6     8 |\n",
    "//  |  8     0 |\n",
    "print(hp2(ten5))"
   ]
  },
  {
   "cell_type": "code",
   "execution_count": null,
   "metadata": {
    "dotnet_interactive": {
     "language": "fsharp"
    }
   },
   "outputs": [
    {
     "name": "stdout",
     "output_type": "stream",
     "text": [
      "(tensor([-23., 17.]), tensor([[-6., 8.],\n",
      "        [8., 0.]]))\n",
      "tensor([[-6., 8.],\n",
      "        [8., 0.]])\n"
     ]
    }
   ],
   "source": [
    "let dhp2 = dsharp.gradhessian(p2)  // calculates gradient and hessian\n",
    "print(dhp2(ten5))\n",
    "\n",
    "let jacp2 = dsharp.jacobian(dp2)\n",
    "print(jacp2(ten5))"
   ]
  },
  {
   "cell_type": "markdown",
   "metadata": {},
   "source": [
    "### Jacobian"
   ]
  },
  {
   "cell_type": "code",
   "execution_count": null,
   "metadata": {
    "dotnet_interactive": {
     "language": "fsharp"
    }
   },
   "outputs": [
    {
     "name": "stdout",
     "output_type": "stream",
     "text": [
      "tensor([20.,  9.])\n",
      "tensor([[9., 0.],\n",
      "        [0., -6.]])\n"
     ]
    }
   ],
   "source": [
    "// dsharp.jacobian() operates on a vector to vector function\n",
    "let funx(x: Tensor) = x**2 + x * dsharp.tensor([1, 0]) \n",
    "//  | x0**2 + x0 |\n",
    "//  | x1**2      | \n",
    "print(funx(ten5))\n",
    "\n",
    "let jacfunx = dsharp.jacobian(funx)\n",
    "//  | 2*x0 + 1      0 |\n",
    "//  | 0          2*x1 |\n",
    "print(jacfunx(ten5))"
   ]
  },
  {
   "cell_type": "code",
   "execution_count": null,
   "metadata": {
    "dotnet_interactive": {
     "language": "fsharp"
    }
   },
   "outputs": [
    {
     "name": "stdout",
     "output_type": "stream",
     "text": [
      "tensor([13.0000, 10.9787])\n",
      "tensor([[ 8.0000,  1.0000],\n",
      "        [-0.5820, -6.0000]])\n"
     ]
    }
   ],
   "source": [
    "let funx2(x: Tensor) = \n",
    "    x**2 + x[1] * dsharp.tensor([1., 0.]) + dsharp.tensor([0., 2.]) * sin(2*x[0])\n",
    "//  | x0**2 + x1          |\n",
    "//  | x1**2 + 2*sin(2*x0) | \n",
    "print(funx2(ten5)) // ten5 = [4, -3]\n",
    "\n",
    "let jacfunx = dsharp.jacobian(funx2)\n",
    "//  | 2*x0 + 1         1 |\n",
    "//  | 4*cos(2*x0)   2*x1 |\n",
    "print(jacfunx(ten5))"
   ]
  },
  {
   "cell_type": "markdown",
   "metadata": {},
   "source": [
    "### Curl, divergence and laplacian"
   ]
  },
  {
   "cell_type": "code",
   "execution_count": null,
   "metadata": {
    "dotnet_interactive": {
     "language": "fsharp"
    }
   },
   "outputs": [
    {
     "data": {
      "text/plain": [
       "tensor([ 0.0000, -0.5403,  0.0000])\n"
      ]
     },
     "metadata": {},
     "output_type": "display_data"
    }
   ],
   "source": [
    "// curl:\n",
    "let funx3(x: Tensor) = \n",
    "    x * (dsharp.tensor([1.5, 2.5, -1.2]) +  x * dsharp.tensor([0.34, 1.12, 2.3])) + sin(x[0]) * dsharp.tensor([0., 0., 1.])\n",
    "// funx3 =\n",
    "//  | 0.34 * x0**2 + 1.5*x0           |\n",
    "//  | 1.12 * x1**2 + 2.5*x1           |\n",
    "//  | 2.3 * x2**2 -1.2 * x2 + sin(x0) |\n",
    "\n",
    "let curlfunx3 = dsharp.curl funx3\n",
    "// curlfunx3 =\n",
    "// |    0 - 0    |\n",
    "// | 0 - cos(x0) |\n",
    "// |    0 - 0    |\n",
    "let ten6 = dsharp.tensor([1.0, 2.0, 3.0])\n",
    "curlfunx3(ten6)"
   ]
  },
  {
   "cell_type": "code",
   "execution_count": null,
   "metadata": {
    "dotnet_interactive": {
     "language": "fsharp"
    }
   },
   "outputs": [
    {
     "name": "stdout",
     "output_type": "stream",
     "text": [
      "tensor(21.7600)\n",
      "(tensor([ 0.0000, -0.5403,  0.0000]), tensor(21.7600))\n",
      "tensor(18.)\n"
     ]
    }
   ],
   "source": [
    "// divergence:\n",
    "let divfunx3 = dsharp.divergence(funx3)\n",
    "// divfunx3 =\n",
    "// 0.68*x0 + 1.5 + 2.24*x1 + 2.5 + 4.6*x2 - 1.2\n",
    "print(divfunx3(ten6))\n",
    "\n",
    "// curldivergence:\n",
    "// returns the curl and the divergence\n",
    "let curldivfunx3 = dsharp.curldivergence(funx3)\n",
    "print(curldivfunx3(ten6))\n",
    "\n",
    "// laplacian:\n",
    "let funx4(x: Tensor) = \n",
    "    x[0] * x[1] + x[2]**3 + x[0] * 3\n",
    "\n",
    "let lapfunx4 = dsharp.laplacian(funx4)\n",
    "// grad(funx4) = \n",
    "//  | x1 + 3    |\n",
    "//  | x0        |\n",
    "//  | 3 * x2**2 |\n",
    "// lapfunx4 = div(grad(funx4)) = \n",
    "// 6 * x2\n",
    "print(lapfunx4(ten6))"
   ]
  },
  {
   "cell_type": "markdown",
   "metadata": {},
   "source": [
    "### Using diff"
   ]
  },
  {
   "cell_type": "code",
   "execution_count": null,
   "metadata": {
    "dotnet_interactive": {
     "language": "fsharp"
    }
   },
   "outputs": [
    {
     "name": "stdout",
     "output_type": "stream",
     "text": [
      "tensor(6.)\n",
      "tensor(2.)\n",
      "tensor(-1.8956)\n"
     ]
    }
   ],
   "source": [
    "let x0 = dsharp.tensor 3.\n",
    "let y0 = dsharp.tensor 2.\n",
    "\n",
    "// capable of taking nested derivatives\n",
    "let nestf(x0, y0) = dsharp.diff (fun x -> x * dsharp.diff (fun y -> x * y) y0) x0\n",
    "// d/dx(x * d/dy(x*y))\n",
    "// --> d/dx(x * x)\n",
    "// --> 2*x\n",
    "print(nestf(x0, y0))\n",
    "\n",
    "// take second order derivative\n",
    "let diff2t = dsharp.diff2 (fun x -> x * (3 + x))\n",
    "// d²/dx²(x**2 + 3*x) = 2\n",
    "print(diff2t(x0))\n",
    "\n",
    "// take n-th order derivative , here n = 3\n",
    "let diffnt = dsharp.diffn 3 (fun y -> y * (2 + sin(y)))  \n",
    "// d/dy(2*y + y*sin(y)) = 2 + sin(y) + y*cos(y)\n",
    "// d/dy(2 + sin(y) + y*cos(y)) = cos(y) + cos(y) - y*sin(y)\n",
    "// d/dy(cos(y) + cos(y) - y*sin(y)) = -sin(y) - sin(y) - sin(y) -y*cos(y)\n",
    "print(diffnt(y0))"
   ]
  },
  {
   "cell_type": "markdown",
   "metadata": {},
   "source": [
    "## Tensors"
   ]
  },
  {
   "cell_type": "code",
   "execution_count": null,
   "metadata": {
    "dotnet_interactive": {
     "language": "fsharp"
    }
   },
   "outputs": [
    {
     "name": "stdout",
     "output_type": "stream",
     "text": [
      "tensor([0.0000, 0.2000, 0.4000, 0.6000, 0.8000])\n",
      "tensor([0., 1., 2., 3., 4., 5., 6., 7., 8., 9.])\n",
      "tensor([ 0,  2,  4,  6,  8, 10, 12],dtype=Int32)\n",
      "tensor([2., 2., 2., 2., 2., 2., 2., 2., 2., 2.])\n",
      "tensor([[1., 1.],\n",
      "        [1., 1.],\n",
      "        [1., 1.],\n",
      "        [1., 1.],\n",
      "        [1., 1.]])\n"
     ]
    }
   ],
   "source": [
    "let t0 = dsharp.tensor 1 // 0D Tensor / scalar tensor \n",
    "let t1 = dsharp.tensor [1, 2, 3]  // 1D Tensor / vector\n",
    "let t2 = dsharp.tensor [[1, 2, 3], [3, 4, 5]]  // 2D Tensor / matrix\n",
    "let t3 = dsharp.tensor [[[1, 2, 3], [2, 3, 2], [1, 2, 3]], [[1, 2, 3], [2, 3, 2], [1, 2, 3]], [[1, 2, 3], [2, 3, 2], [1, 2, 3]]]\n",
    "// 3D Tensor ^\n",
    "// etc...\n",
    "// print(t3)\n",
    "\n",
    "let t_in = dsharp.tensor [0.0 ..0.2.. 0.8]\n",
    "print(t_in)\n",
    "\n",
    "let t_arange = dsharp.arange(10., step=1.)  // dtype float \n",
    "// dsharp.arange(endVal, startVal, step, ...) \n",
    "print(t_arange)\n",
    "print(dsharp.arangeLike(t_arange, 13, step=2))  // dtype int\n",
    "\n",
    "let t_fullLike = dsharp.fullLike(t_arange, 2.) // takes the shape of t_arange\n",
    "print(t_fullLike)\n",
    "\n",
    "let t_onesLike = dsharp.onesLike(t_arange, shape=[5; 2])  \n",
    "// shape can be used to change the shape \n",
    "// (it doesn't have to have the same size as the input tensor)\n",
    "print(t_onesLike)\n",
    "\n",
    "// dsharp.zerosLike() works the same as onesLike\n",
    "// there also is zeroLike() and oneLike() which return a scalar tensor"
   ]
  },
  {
   "cell_type": "code",
   "execution_count": null,
   "metadata": {
    "dotnet_interactive": {
     "language": "fsharp"
    }
   },
   "outputs": [
    {
     "name": "stdout",
     "output_type": "stream",
     "text": [
      "tensor([[1., 1., 1., 1.],\n",
      "        [1., 1., 1., 1.]])\n",
      "tensor([[0., 0., 0., 0.],\n",
      "        [0., 0., 0., 0.]])\n",
      "tensor([0., 1., 2., 3., 4., 5., 6., 7., 8., 9.])\n",
      "tensor([0., 0., 0., 0., 0.])\n",
      "tensor([[0., 0., 0., 0.]])\n",
      "tensor([[1, 0],\n",
      "        [0, 1]],dtype=Int32)\n",
      "tensor([[1, 0, 0],\n",
      "        [0, 1, 0]],dtype=Int32)\n"
     ]
    }
   ],
   "source": [
    "let t_ones = dsharp.ones([2; 4]) // return tensor with ones of the given shape\n",
    "print(t_ones)\n",
    "print(dsharp.zeros([2; 4]))      // return tensor with zeros of the given shape\n",
    "\n",
    "print(dsharp.clone(t_arange))    // from documentation: Returns a new tensor with the same characteristics and storage cloned.\n",
    "\n",
    "print(dsharp.empty(5))           // from the documentation: Returns a new uninitialized tensor filled with arbitrary values for the given \n",
    "                                 // length, element type and configuration \n",
    "print(dsharp.empty([1; 4]))      // same as before but with a shape\n",
    "\n",
    "print(dsharp.eye(2))\n",
    "print(dsharp.eye(2, 3))"
   ]
  },
  {
   "cell_type": "code",
   "execution_count": null,
   "metadata": {
    "dotnet_interactive": {
     "language": "fsharp"
    }
   },
   "outputs": [
    {
     "name": "stdout",
     "output_type": "stream",
     "text": [
      "tensor([ 0.0000,  0.1010,  0.2020, ...,  9.7980,  9.8990, 10.0000])\n",
      "tensor([1.0000, 2.8284, 8.0000])\n",
      "tensor(1.)\n",
      "tensor(0.)\n",
      "tensor(2.)\n"
     ]
    }
   ],
   "source": [
    "let t_linspace = dsharp.linspace(0., 10., 100)\n",
    "print(t_linspace)\n",
    "\n",
    "// dsharp.load(fileName, ?device, ?dtype, ?backend) \n",
    "// Loads the tensor from the given file using the given element type and configuration.\n",
    "// The backend at the time of saving the tensor must be available when the tensor is reloaded. The tensor is \n",
    "// first loaded into that backend and then moved. As a result, intermediate tensors may be \n",
    "// created in the process of reloading. \n",
    "//\n",
    "// dsharp.save(tensor, filename)\n",
    "// Saves the tensor to the given file using a bespoke binary format.\n",
    "// The binary format records the elements, backend, element type and shape. It does not record the device. \n",
    "// The format used may change from version to version of DiffSharp. \n",
    "\n",
    "let t_logspace = dsharp.logspace(0., 3., steps=3, baseVal = 2)\n",
    "print(t_logspace)\n",
    "\n",
    "print(dsharp.one())    // alternatives to writing dsharp.tensor(0) / dsharp.tensor(1) /dsharp.tensor(number)\n",
    "print(dsharp.zero())\n",
    "print(dsharp.scalar(2.))"
   ]
  },
  {
   "cell_type": "code",
   "execution_count": null,
   "metadata": {
    "dotnet_interactive": {
     "language": "fsharp"
    }
   },
   "outputs": [
    {
     "name": "stdout",
     "output_type": "stream",
     "text": [
      "tensor([0.7420, 0.5660, 0.8447, 0.4673, 0.5902, 0.6585, 0.2113, 0.9809, 0.8230, 0.7550])\n",
      "tensor([[0.2367, 0.4237],\n",
      "        [0.4440, 0.4354]])\n",
      "tensor([0.0815, 0.3943, 0.5306])\n",
      "tensor([2., 2., 2., 8.])\n",
      "tensor([[2., 4.],\n",
      "        [0., 4.]])\n",
      "tensor([ 6., 14., 18.])\n",
      "tensor([ 0.8454,  2.0249,  1.5630,  0.7625, -0.3736, -0.4008, -0.6547, -0.5045,  0.7681,  0.7095])\n",
      "tensor([[ 0.1020, -0.3628],\n",
      "        [ 1.1176, -1.9519]])\n",
      "tensor([ 0.6840,  0.5939, -1.1207])\n"
     ]
    }
   ],
   "source": [
    "// Random tensors:\n",
    "dsharp.seed(23) // from the doc: Seeds all backends with the given random seed, or a new seed based on the current time if no seed is specified. \n",
    "\n",
    "print(dsharp.rand(10))  // Uniform distribution [0, 1)\n",
    "print(dsharp.rand([2; 2]))\n",
    "print(dsharp.randLike(t_logspace))\n",
    "\n",
    "print(dsharp.randint(0, 10, 4))  // random integers\n",
    "print(dsharp.randint(0, 5, [2; 2]))\n",
    "print(dsharp.randintLike(t_logspace, 0, 20))\n",
    "\n",
    "print(dsharp.randn(10))  // Normal distribution [0, 1)\n",
    "print(dsharp.randn([2; 2]))\n",
    "print(dsharp.randnLike(t_logspace))"
   ]
  },
  {
   "cell_type": "markdown",
   "metadata": {},
   "source": [
    "### Some operations to change shapes\n",
    "- there's plenty more than shown here"
   ]
  },
  {
   "cell_type": "code",
   "execution_count": null,
   "metadata": {
    "dotnet_interactive": {
     "language": "fsharp"
    }
   },
   "outputs": [
    {
     "name": "stdout",
     "output_type": "stream",
     "text": [
      "tensor([[ 1.4796, -0.4566,  0.0237,  0.9842],\n",
      "        [-0.8180,  0.5480, -0.1527,  1.4492],\n",
      "        [ 1.6854,  1.9224,  3.0310, -0.7795]])\n",
      "tensor([[ 1.4796, -0.4566,  0.0237,  0.9842, -0.8180,  0.5480, -0.1527,  1.4492,  1.6854,  1.9224,  3.0310, -0.7795]])\n",
      "tensor([[[ 1.4796, -0.4566],\n",
      "         [ 0.0237,  0.9842]],\n",
      "       \n",
      "        [[-0.8180,  0.5480],\n",
      "         [-0.1527,  1.4492]],\n",
      "       \n",
      "        [[ 1.6854,  1.9224],\n",
      "         [ 3.0310, -0.7795]]])\n"
     ]
    }
   ],
   "source": [
    "let test_ten = dsharp.randn([3; 4])\n",
    "\n",
    "print(test_ten)\n",
    "print(test_ten.view([1; -1]))\n",
    "print(test_ten.view([3; 2; 2]))"
   ]
  },
  {
   "cell_type": "code",
   "execution_count": null,
   "metadata": {
    "dotnet_interactive": {
     "language": "fsharp"
    }
   },
   "outputs": [
    {
     "name": "stdout",
     "output_type": "stream",
     "text": [
      "tensor([ 1.4796, -0.4566,  0.0237,  0.9842, -0.8180,  0.5480, -0.1527,  1.4492,  1.6854,  1.9224,  3.0310, -0.7795])\n",
      "tensor([[[ 1.4796, -0.4566,  0.0237,  0.9842],\n",
      "         [-0.8180,  0.5480, -0.1527,  1.4492],\n",
      "         [ 1.6854,  1.9224,  3.0310, -0.7795]]])\n"
     ]
    }
   ],
   "source": [
    "print(test_ten.view([1; -1]).squeeze())\n",
    "print(test_ten.unsqueeze(0)) // try it with 1 / 2"
   ]
  }
 ],
 "metadata": {
  "kernelspec": {
   "display_name": ".NET (C#)",
   "language": "C#",
   "name": ".net-csharp"
  },
  "language_info": {
   "file_extension": ".cs",
   "mimetype": "text/x-csharp",
   "name": "C#",
   "pygments_lexer": "csharp",
   "version": "9.0"
  },
  "orig_nbformat": 4
 },
 "nbformat": 4,
 "nbformat_minor": 2
}
